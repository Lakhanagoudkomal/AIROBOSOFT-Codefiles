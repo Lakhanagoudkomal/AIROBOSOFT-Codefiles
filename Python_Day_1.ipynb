{
  "nbformat": 4,
  "nbformat_minor": 0,
  "metadata": {
    "kernelspec": {
      "display_name": "Python 3",
      "language": "python",
      "name": "python3"
    },
    "language_info": {
      "codemirror_mode": {
        "name": "ipython",
        "version": 3
      },
      "file_extension": ".py",
      "mimetype": "text/x-python",
      "name": "python",
      "nbconvert_exporter": "python",
      "pygments_lexer": "ipython3",
      "version": "3.7.3"
    },
    "colab": {
      "name": "Python Day 1.ipynb",
      "provenance": [],
      "collapsed_sections": [
        "shNI1Bdwl8Hi",
        "-XVSsidDl8Hk",
        "TmxYfpQ_l8Hz"
      ]
    }
  },
  "cells": [
    {
      "cell_type": "markdown",
      "metadata": {
        "id": "lXMx5ZUTl8G_"
      },
      "source": [
        "## Introduction"
      ]
    },
    {
      "cell_type": "markdown",
      "metadata": {
        "id": "PEUEROoql8HJ"
      },
      "source": [
        "Python is an interpreted, object-oriented, high-level programming language with dynamic semantics. Its high-level built in data structures, combined with dynamic typing and dynamic binding, make it very attractive for Rapid Application Development, as well as for use as a scripting or glue language to connect existing components together. Python's simple, easy to learn syntax emphasizes readability and therefore reduces the cost of program maintenance. Python supports modules and packages, which encourages program modularity and code reuse. The Python interpreter and the extensive standard library are available in source or binary form without charge for all major platforms, and can be freely distributed."
      ]
    },
    {
      "cell_type": "markdown",
      "metadata": {
        "id": "8f8VCOy2l8HL"
      },
      "source": [
        "Python is a great general-purpose programming language on its own, but with the help of a few popular libraries (numpy, scipy, matplotlib) it becomes a powerful environment for scientific computing."
      ]
    },
    {
      "cell_type": "markdown",
      "metadata": {
        "id": "6IUbCoKYl8HM"
      },
      "source": [
        "## Python Version\n",
        "### Python 2\n",
        "Published in late 2000, Python 2 signalled a more transparent and inclusive language development process than earlier versions of Python with the implementation of PEP (Python Enhancement Proposal), a technical specification that either provides information to Python community members or describes a new feature of the language.\n",
        "\n",
        "Additionally, Python 2 included many more programmatic features including a cycle-detecting garbage collector to automate memory management, increased Unicode support to standardize characters, and list comprehensions to create a list based on existing lists. As Python 2 continued to develop, more features were added, including unifying Python’s types and classes into one hierarchy in Python version 2.2.\n",
        "\n",
        "\n",
        "### Python 3\n",
        "\n",
        "Python 3 is regarded as the future of Python and is the version of the language that is currently in development. A major overhaul, Python 3 was released in late 2008 to address and amend intrinsic design flaws of previous versions of the language. The focus of Python 3 development was to clean up the codebase and remove redundancy, making it clear that there was only one way to perform a given task.\n",
        "\n",
        "Major modifications to Python 3.0 included changing the print statement into a built-in function, improve the way integers are divided, and providing more Unicode support.\n",
        "\n",
        "At first, Python 3 was slowly adopted due to the language not being backwards compatible with Python 2, requiring people to make a decision as to which version of the language to use. Additionally, many package libraries were only available for Python 2, but as the development team behind Python 3 has reiterated that there is an end of life for Python 2 support, more libraries have been ported to Python 3. The increased adoption of Python 3 can be shown by the number of Python packages that now provide Python 3 support, which at the time of writing includes 339 of the 360 most popular Python packages.\n",
        "\n",
        "### Python 2.7\n",
        "\n",
        "Following the 2008 release of Python 3.0, Python 2.7 was published on July 3, 2010 and planned as the last of the 2.x releases. The intention behind Python 2.7 was to make it easier for Python 2.x users to port features over to Python 3 by providing some measure of compatibility between the two. This compatibility support included enhanced modules for version 2.7 like unittest to support test automation, argparse for parsing command-line options, and more convenient classes in collections.\n",
        "\n",
        "Because of Python 2.7’s unique position as a version in between the earlier iterations of Python 2 and Python 3.0, it has persisted as a very popular choice for programmers due to its compatibility with many robust libraries. When we talk about Python 2 today, we are typically referring to the Python 2.7 release as that is the most frequently used version.\n",
        "\n",
        "Python 2.7, however, is considered to be a legacy language and its continued development, which today mostly consists of bug fixes, will cease completely in 2020.\n",
        "\n",
        "### Key Differences\n",
        "While Python 2.7 and Python 3 share many similar capabilities, they should not be thought of as entirely interchangeable. Though you can write good code and useful programs in either version, it is worth understanding that there will be some considerable differences in code syntax and handling.\n",
        "\n"
      ]
    },
    {
      "cell_type": "markdown",
      "metadata": {
        "collapsed": true,
        "id": "jOBuJIo_l8HQ"
      },
      "source": [
        "## Anaconda Python Distribution\n",
        "Anaconda is an open-source package manager, environment manager, and distribution of the Python and R programming languages. It is commonly used for large-scale data processing, scientific computing, and predictive analytics, serving data scientists, developers, business analysts, and those working in DevOps.\n",
        "\n",
        "Anaconda offers a collection of over 720 open-source packages, and is available in both free and paid versions. The Anaconda distribution ships with the conda command-line utility. You can learn more about Anaconda and conda by reading the Anaconda Documentation pages."
      ]
    },
    {
      "cell_type": "markdown",
      "metadata": {
        "id": "RJfuXJAol8HS"
      },
      "source": [
        "###### Why Anaconda?\n",
        "* User level install of the version of python you want\n",
        "* Able to install/update packages completely independent of system libraries or admin privileges\n",
        "* conda tool installs binary packages, rather than requiring compile resources like pip - again, handy if you have limited privileges for installing necessary libraries.\n",
        "* More or less eliminates the headaches of trying to figure out which version/release of package X is compatible with which version/release of package Y, both of which are required for the install of package Z\n",
        "* Comes either in full-meal-deal version, with numpy, scipy, PyQt, spyder IDE, etc. or in minimal / alacarte version (miniconda) where you can install what you want, when you need it\n",
        "* No risk of messing up required system libraries"
      ]
    },
    {
      "cell_type": "markdown",
      "metadata": {
        "id": "SVL23_SKl8HU"
      },
      "source": [
        "## Installing on Windows\n",
        "\n",
        "1. [Download the Anaconda installer](https://www.continuum.io/downloads).\n",
        "\n",
        "2. Optional: Verify data integrity with MD5 or SHA-256. More info on hashes\n",
        "\n",
        "3. Double click the installer to launch.\n",
        "\n",
        "  NOTE: If you encounter any issues during installation, temporarily disable your anti-virus software during install, then re-enable it after the installation concludes. If you have installed for all users, uninstall Anaconda and re-install it for your user only and try again.\n",
        "\n",
        "4. Click Next.\n",
        "\n",
        "5. Read the licensing terms and click I Agree.\n",
        "\n",
        "6. Select an install for “Just Me” unless you’re installing for all users (which requires Windows Administrator privileges).\n",
        "\n",
        "7. Select a destination folder to install Anaconda and click Next.\n",
        "\n",
        "  NOTE: Install Anaconda to a directory path that does not contain spaces or unicode characters.\n",
        "\n",
        "  NOTE: Do not install as Administrator unless admin privileges are required.\n",
        "\n",
        "8. Choose whether to add Anaconda to your PATH environment variable. We recommend not adding Anaconda to the PATH environment variable, since this can interfere with other software. Instead, use Anaconda software by opening Anaconda Navigator or the Anaconda Command Prompt from the Start Menu.\n",
        "\n",
        "9. Choose whether to register Anaconda as your default Python 3.6. Unless you plan on installing and running multiple versions of Anaconda, or multiple versions of Python, you should accept the default and leave this box checked.\n",
        "\n",
        "10. Click Install. You can click Show Details if you want to see all the packages Anaconda is installing.\n",
        "\n",
        "11. Click Next.\n",
        "\n",
        "12. After a successful installation you will see the “Thanks for installing Anaconda” image:\n",
        " <img src=\"Images/anaconda-install-win.png\">\n",
        " \n",
        "13. You can leave the boxes checked “Learn more about Anaconda Cloud” and “Learn more about Anaconda Support” if you wish to read more about this cloud package management service and Anaconda support. Click Finish.\n",
        "\n",
        "14. After your install is complete, verify it by opening Anaconda Navigator, a program that is included with Anaconda. From your Windows Start menu, select the shortcut Anaconda Navigator. If Navigator opens, you have successfully installed Anaconda.\n"
      ]
    },
    {
      "cell_type": "markdown",
      "metadata": {
        "id": "Z0DTNZwHl8HX"
      },
      "source": [
        "## Installing on macOS\n",
        "1. Download the [graphical macOS installer](https://www.continuum.io/downloads#macos) for your version of Python.\n",
        "\n",
        "2. OPTIONAL: Verify data integrity with MD5 or SHA-256. For more information on hashes, see What about cryptographic hash verification?.\n",
        "\n",
        "3. Double-click the .pkg file.\n",
        "\n",
        "4. Answer the prompts on the Introduction, Read Me and License screens.\n",
        "\n",
        "5. On the Destination Select screen, select Install for me only.\n",
        "\n",
        " NOTE: If you get the error message “You cannot install Anaconda in this location,” reselect Install for me only.\n",
        " <img src=\"Images/osxbug2.png\">\n",
        "\n",
        "6. On the Installation Type screen, you may choose to install in another location. The standard install puts Anaconda in your home user directory:\n",
        " <img src=\"Images/customizebutton.png\">\n",
        "\n",
        "7. Click the Install button.\n",
        "\n",
        "8. A successful installation displays the following screen:\n",
        " <img src=\"Images/anaconda-install-osx.png\">\n"
      ]
    },
    {
      "cell_type": "markdown",
      "metadata": {
        "id": "2Ge3AHlgl8HZ"
      },
      "source": [
        "## Installing on Linux\n",
        "\n",
        "1. In your browser, download the Anaconda installer for Linux.\n",
        "\n",
        "2. Optional: Verify data integrity with MD5 or SHA-256. (For more information on hashes, see cryptographic hash validation.)\n",
        "\n",
        "    Run the following:\n",
        "\n",
        "    __md5sum /path/filename__\n",
        "    OR:\n",
        "\n",
        "    __sha256sum /path/filename__\n",
        "3. Verify results against the proper hash page to make sure the hashes match.\n",
        "\n",
        "4. Enter the following to install Anaconda for Python 3.6:\n",
        "\n",
        " __bash ~/Downloads/Anaconda3-4.4.0-Linux-x86_64.sh__\n",
        " OR\n",
        "\n",
        " Enter the following to install Anaconda for Python 2.7:\n",
        "\n",
        " __bash ~/Downloads/Anaconda2-4.4.0-Linux-x86_64.sh__\n",
        " NOTE: You should include the bash command regardless of whether you are using Bash shell.\n",
        "\n",
        " NOTE: Replace actual download path and filename as necessary.\n",
        "\n",
        " NOTE: Install Anaconda as a user unless root privileges are required.\n",
        "\n",
        "5. The installer prompts “In order to continue the installation process, please review the license agreement.” Click Enter to view license terms.\n",
        "\n",
        "6. Scroll to the bottom of the license terms and enter yes to agree to them.\n",
        "\n",
        "7. The installer prompts you to click Enter to accept the default install location, press CTRL-C to cancel the installation, or specify an alternate installation directory. If you accept the default install location, the installer displays __'PREFIX=/home/\"user\"/anaconda\"2 or 3\"' and continues the installation. It may take a few minutes to complete.__\n",
        "\n",
        "   The installer prompts “Do you wish the installer to prepend the Anaconda\"2 or 3\" install location to PATH in your /home/\"user\"/.bashrc ?” We recommend yes.\n",
        "\n",
        " NOTE: If you enter “no”, you will need to manually specify the path to Anaconda when using Anaconda. To manually add the prepended path, edit file .bashrc to add ~/anaconda\"2 or 3\"/bin to your path manually using:\n",
        "\n",
        "8. __export PATH=\"/home/\"user\"/anaconda\"2 or 3\"/bin:$PATH\"__\n",
        " Replace /home/\"user\"/anaconda\"2 or 3\" with the actual path.\n",
        "\n",
        "9. The installer finishes and displays “Thank you for installing Anaconda\"2 or 3\"!”\n",
        "\n",
        "10. Close and open your terminal window for the installation to take effect, or you can enter the command source ~/.bashrc.\n",
        "\n",
        "  Enter conda list. If the installation was successful, the terminal window should display a list of installed Anaconda packages.\n",
        "\n",
        "  NOTE: Power8 users: Navigate to your Anaconda directory and run this command:\n",
        "\n",
        " __conda install libgfortran__"
      ]
    },
    {
      "cell_type": "markdown",
      "metadata": {
        "id": "MdVOWFOMl8Hc"
      },
      "source": [
        "## What are Jupyter notebook?"
      ]
    },
    {
      "cell_type": "markdown",
      "metadata": {
        "id": "8WLT1zvDl8Hd"
      },
      "source": [
        "The notebook is a web application that allows you to combine explanatory text, math equations, code, and visualizations all in one easily sharable document.\n",
        "\n",
        "Notebooks have quickly become an essential tool when working with data. You'll find them being used for data cleaning and exploration, visualization, machine learning, and big data analysis. Typically you'd be doing this work in a terminal, either the normal Python shell or with IPython. Your visualizations would be in separate windows, any documentation would be in separate documents, along with various scripts for functions and classes. However, with notebooks, all of these are in one place and easily read together.\n",
        "\n",
        "Notebooks are also rendered automatically on GitHub. It’s a great feature that lets you easily share your work. There is also [http://nbviewer.jupyter.org/](http://nbviewer.jupyter.org/) that renders the notebooks from your GitHub repo or from notebooks stored elsewhere.\n",
        "\n"
      ]
    },
    {
      "cell_type": "markdown",
      "metadata": {
        "id": "hyfXC7w2l8He"
      },
      "source": [
        "## How notebook works?\n"
      ]
    },
    {
      "cell_type": "markdown",
      "metadata": {
        "id": "U-1T6hr6l8Hg"
      },
      "source": [
        "Jupyter notebooks grew out of the IPython project started by Fernando Perez. IPython is an interactive shell, similar to the normal Python shell but with great features like syntax highlighting and code completion. Originally, notebooks worked by sending messages from the web app (the notebook you see in the browser) to an IPython kernel (an IPython application running in the background). The kernel executed the code, then sent it back to the notebook. The current architecture is similar, drawn out below.\n",
        "<img src=\"Images/notebook-components.png\">\n",
        "\n",
        "\n",
        "The central point is the notebook server. You connect to the server through your browser and the notebook is rendered as a web app. Code you write in the web app is sent through the server to the kernel. The kernel runs the code and sends it back to the server, then any output is rendered back in the browser. When you save the notebook, it is written to the server as a JSON file with a .ipynb file extension.\n",
        "\n",
        "The great part of this architecture is that the kernel doesn't need to run Python. Since the notebook and the kernel are separate, code in any language can be sent between them. For example, two of the earlier non-Python kernels were for the R and Julia languages. With an R kernel, code written in R will be sent to the R kernel where it is executed, exactly the same as Python code running on a Python kernel. IPython notebooks were renamed because notebooks became language agnostic. The new name Jupyter comes from the combination of Julia, Python, and R. If you're interested, here's a list of available kernels.\n",
        "\n",
        "Another benefit is that the server can be run anywhere and accessed via the internet. Typically you'll be running the server on your own machine where all your data and notebook files are stored. But, you could also set up a server on a remote machine or cloud instance like Amazon's EC2. Then, you can access the notebooks in your browser from anywhere in the world.\n",
        "\n"
      ]
    },
    {
      "cell_type": "markdown",
      "metadata": {
        "id": "ID5zMCM5l8Hh"
      },
      "source": [
        "## Installing Jupyter Notebook"
      ]
    },
    {
      "cell_type": "markdown",
      "metadata": {
        "id": "Hx8ccCR2l8Hi"
      },
      "source": [
        "By far the easiest way to install Jupyter is with Anaconda. Jupyter notebooks automatically come with the distribution. You'll be able to use notebooks from the default environment.\n",
        "\n",
        "To install Jupyter notebooks in a conda environment, use __conda install jupyter notebook__.\n",
        "\n",
        "Jupyter notebooks are also available through pip with __pip install jupyter notebook__."
      ]
    },
    {
      "cell_type": "markdown",
      "metadata": {
        "id": "shNI1Bdwl8Hi"
      },
      "source": [
        "## Launching the notebook server\n",
        "\n",
        "To start a notebook server, enter jupyter notebook in your terminal or console. This will start the server in the directory you ran the command in. That means any notebook files will be saved in that directory. Typically you'd want to start the server in the directory where your notebooks live. However, you can navigate through your file system to where the notebooks are.\n",
        "\n",
        "When you run the command (try it yourself!), the server home should open in your browser. By default, the notebook server runs at http://localhost:8888. If you aren't familiar with this, localhost means your computer and 8888 is the port the server is communicating on. As long as the server is still running, you can always come back to it by going to http://localhost:8888 in your browser.\n",
        "\n",
        "If you start another server, it'll try to use port 8888, but since it is occupied, the new server will run on port 8889. Then, you'd connect to it at http://localhost:8889. Every additional notebook server will increment the port number like this.\n",
        "\n",
        "If you tried starting your own server, it should look something like this:\n",
        "<img src=\"Images/notebook-server.png\">"
      ]
    },
    {
      "cell_type": "markdown",
      "metadata": {
        "id": "60iBh-zxl8Hj"
      },
      "source": [
        "# -------------------------------------------------------------------------------------------------------------"
      ]
    },
    {
      "cell_type": "markdown",
      "metadata": {
        "id": "nkK_KXSPl8Hj"
      },
      "source": [
        "## Basics of Python"
      ]
    },
    {
      "cell_type": "markdown",
      "metadata": {
        "id": "m4BLAu4tl8Hk"
      },
      "source": [
        "Python is a high-level, dynamically typed multiparadigm programming language. Python code is often said to be almost like pseudocode, since it allows you to express very powerful ideas in very few lines of code while being very readable. As an example, here is an implementation of the classic quicksort algorithm in Python:"
      ]
    },
    {
      "cell_type": "markdown",
      "metadata": {
        "id": "-XVSsidDl8Hk"
      },
      "source": [
        "### Fundamental types"
      ]
    },
    {
      "cell_type": "markdown",
      "metadata": {
        "id": "bhQnnunBl8Hl"
      },
      "source": [
        "### Integers\n",
        "\n",
        "Integer literals are created by any number without a decimal or complex component."
      ]
    },
    {
      "cell_type": "code",
      "metadata": {
        "id": "mwWTwVXkl8Hl"
      },
      "source": [
        "# integers\n"
      ],
      "execution_count": null,
      "outputs": []
    },
    {
      "cell_type": "code",
      "metadata": {
        "colab": {
          "base_uri": "https://localhost:8080/"
        },
        "id": "yAObSFfDxGg8",
        "outputId": "134fed61-67dd-49d3-84e9-f7262dc64043"
      },
      "source": [
        "x = 1\n",
        "type(x)"
      ],
      "execution_count": 1,
      "outputs": [
        {
          "output_type": "execute_result",
          "data": {
            "text/plain": [
              "int"
            ]
          },
          "metadata": {},
          "execution_count": 1
        }
      ]
    },
    {
      "cell_type": "markdown",
      "metadata": {
        "id": "Bi2anoyal8Hn"
      },
      "source": [
        "### Floats\n",
        "\n",
        "Float literals can be created by adding a decimal component to a number."
      ]
    },
    {
      "cell_type": "code",
      "metadata": {
        "colab": {
          "base_uri": "https://localhost:8080/"
        },
        "id": "qF8Br5Knl8Ho",
        "outputId": "b7391420-60ac-4ab9-a255-b5878592ccd6"
      },
      "source": [
        "# float\n",
        "x = 1.0\n",
        "type(x)\n"
      ],
      "execution_count": null,
      "outputs": [
        {
          "output_type": "execute_result",
          "data": {
            "text/plain": [
              "float"
            ]
          },
          "metadata": {},
          "execution_count": 10
        }
      ]
    },
    {
      "cell_type": "markdown",
      "metadata": {
        "id": "OSHk2mH3l8Ho"
      },
      "source": [
        "### Boolean\n",
        "\n",
        "Boolean can be defined by typing True/False without quotes"
      ]
    },
    {
      "cell_type": "code",
      "metadata": {
        "colab": {
          "base_uri": "https://localhost:8080/"
        },
        "id": "RuXJAa1rl8Hp",
        "outputId": "5ec18dd9-22d3-4fb3-94c0-e1ae42386f05"
      },
      "source": [
        "# boolean\n",
        "b1 = True\n",
        "b2 = False\n",
        "type(b1)\n"
      ],
      "execution_count": null,
      "outputs": [
        {
          "output_type": "execute_result",
          "data": {
            "text/plain": [
              "bool"
            ]
          },
          "metadata": {},
          "execution_count": 11
        }
      ]
    },
    {
      "cell_type": "markdown",
      "metadata": {
        "id": "abyIjzAml8Hp"
      },
      "source": [
        "### Strings\n",
        "\n",
        "String literals can be defined with any of single quotes ('), double quotes (\") or triple quotes (''' or \"\"\"). All give the same result with two important differences.\n",
        "\n",
        "If you quote with single quotes, you do not have to escape double quotes and vice-versa.\n",
        "If you quote with triple quotes, your string can span multiple lines."
      ]
    },
    {
      "cell_type": "code",
      "metadata": {
        "colab": {
          "base_uri": "https://localhost:8080/"
        },
        "id": "eJizgCTil8Hp",
        "outputId": "09a8b5b3-4f09-45a7-8c84-435b19c3fec5"
      },
      "source": [
        "# string\n",
        "name1 = 'Komal'\n",
        "type(name1)\n"
      ],
      "execution_count": null,
      "outputs": [
        {
          "output_type": "execute_result",
          "data": {
            "text/plain": [
              "str"
            ]
          },
          "metadata": {},
          "execution_count": 12
        }
      ]
    },
    {
      "cell_type": "markdown",
      "metadata": {
        "id": "zab_Be3El8Hq"
      },
      "source": [
        "### Complex\n",
        "\n",
        "Complex literals can be created by using the notation x + yj where x is the real component and y is the imaginary component."
      ]
    },
    {
      "cell_type": "code",
      "metadata": {
        "colab": {
          "base_uri": "https://localhost:8080/"
        },
        "id": "y2T5E6PQl8Hq",
        "outputId": "6ae10af4-bbc6-47fb-9b49-cd0c4ad8d71b"
      },
      "source": [
        "# complex numbers: note the use of `j` to specify the imaginary part\n",
        "x = 1.0 - 2.0j\n",
        "type(x)"
      ],
      "execution_count": null,
      "outputs": [
        {
          "output_type": "execute_result",
          "data": {
            "text/plain": [
              "complex"
            ]
          },
          "metadata": {},
          "execution_count": 17
        }
      ]
    },
    {
      "cell_type": "code",
      "metadata": {
        "scrolled": true,
        "colab": {
          "base_uri": "https://localhost:8080/"
        },
        "id": "6Nm0XI4Ul8Hr",
        "outputId": "591fb403-d9bb-4d66-c59e-41386841e5b3"
      },
      "source": [
        "print(x)"
      ],
      "execution_count": null,
      "outputs": [
        {
          "output_type": "stream",
          "name": "stdout",
          "text": [
            "(1-2j)\n"
          ]
        }
      ]
    },
    {
      "cell_type": "code",
      "metadata": {
        "scrolled": true,
        "colab": {
          "base_uri": "https://localhost:8080/"
        },
        "id": "9GYU4ltkl8Hr",
        "outputId": "d16604bd-6cad-4b70-9d6c-8a078f77b58b"
      },
      "source": [
        "print(x.real, x.imag)\n"
      ],
      "execution_count": null,
      "outputs": [
        {
          "output_type": "stream",
          "name": "stdout",
          "text": [
            "1.0 -2.0\n"
          ]
        }
      ]
    },
    {
      "cell_type": "markdown",
      "metadata": {
        "id": "5-OMXA-Hl8Hs"
      },
      "source": [
        "### Variables\n",
        "\n",
        "#### Definining\n",
        "\n",
        "A variable in Python is defined through assignment. There is no concept of declaring a variable outside of that assignment."
      ]
    },
    {
      "cell_type": "code",
      "metadata": {
        "colab": {
          "base_uri": "https://localhost:8080/"
        },
        "id": "QT91ovWFl8Hs",
        "outputId": "2f11817f-7a1d-4c43-da01-48aa1ff9cb48"
      },
      "source": [
        "tenth = 10\n",
        "two = 2\n",
        "print(tenth)\n",
        "print(two)"
      ],
      "execution_count": null,
      "outputs": [
        {
          "output_type": "stream",
          "name": "stdout",
          "text": [
            "10\n",
            "2\n"
          ]
        }
      ]
    },
    {
      "cell_type": "markdown",
      "metadata": {
        "id": "b6yhs0Yyl8Ht"
      },
      "source": [
        "#### Dynamic Typing\n",
        "\n",
        "In Python, while the value that a variable points to has a type, the variable itself has no strict type in its definition. You can re-use the same variable to point to an object of a different type. It may be helpful to think of variables as \"labels\" associated with objects."
      ]
    },
    {
      "cell_type": "code",
      "metadata": {
        "colab": {
          "base_uri": "https://localhost:8080/"
        },
        "id": "bspa3OCcl8Ht",
        "outputId": "0ec23f01-eb8d-42b2-c7ca-9b00909ae96e"
      },
      "source": [
        "ten = 10\n",
        "ten"
      ],
      "execution_count": null,
      "outputs": [
        {
          "output_type": "execute_result",
          "data": {
            "text/plain": [
              "10"
            ]
          },
          "metadata": {},
          "execution_count": 21
        }
      ]
    },
    {
      "cell_type": "code",
      "metadata": {
        "colab": {
          "base_uri": "https://localhost:8080/",
          "height": 35
        },
        "id": "zFdv2W6Jl8Ht",
        "outputId": "0cfe2a78-58ce-48f5-ecb4-835594bf50c4"
      },
      "source": [
        "ten ='ten'\n",
        "ten"
      ],
      "execution_count": null,
      "outputs": [
        {
          "output_type": "execute_result",
          "data": {
            "application/vnd.google.colaboratory.intrinsic+json": {
              "type": "string"
            },
            "text/plain": [
              "'ten'"
            ]
          },
          "metadata": {},
          "execution_count": 22
        }
      ]
    },
    {
      "cell_type": "markdown",
      "metadata": {
        "id": "KvLx2Hvtl8Hu"
      },
      "source": [
        "#### Strong Typing\n",
        "\n",
        "While Python allows you to be very flexible with your types, you must still be aware of what those types are. Certain operations will require certain types as arguments."
      ]
    },
    {
      "cell_type": "code",
      "metadata": {
        "colab": {
          "base_uri": "https://localhost:8080/",
          "height": 35
        },
        "id": "0CdaPNkLl8Hu",
        "outputId": "c2bfd95d-103f-45c9-9ac2-5c33af878c73"
      },
      "source": [
        "'Day ' +  '1'"
      ],
      "execution_count": null,
      "outputs": [
        {
          "output_type": "execute_result",
          "data": {
            "application/vnd.google.colaboratory.intrinsic+json": {
              "type": "string"
            },
            "text/plain": [
              "'Day 1'"
            ]
          },
          "metadata": {},
          "execution_count": 25
        }
      ]
    },
    {
      "cell_type": "markdown",
      "metadata": {
        "id": "r6cmo7Ivl8Hu"
      },
      "source": [
        "This behavior is different from some other loosely-typed languages. If you were to do the same thing in JavaScript, you would get a different result.\n",
        "\n",
        "In Python, however, it is possible to change the type of an object through builtin functions."
      ]
    },
    {
      "cell_type": "code",
      "metadata": {
        "colab": {
          "base_uri": "https://localhost:8080/",
          "height": 35
        },
        "id": "yc25ftiBl8Hv",
        "outputId": "664a9b9d-9ee0-4269-edcd-b65ed9496037"
      },
      "source": [
        "'Day ' + str(1)"
      ],
      "execution_count": null,
      "outputs": [
        {
          "output_type": "execute_result",
          "data": {
            "application/vnd.google.colaboratory.intrinsic+json": {
              "type": "string"
            },
            "text/plain": [
              "'Day 1'"
            ]
          },
          "metadata": {},
          "execution_count": 26
        }
      ]
    },
    {
      "cell_type": "markdown",
      "metadata": {
        "id": "qSqTFjq_l8Hv"
      },
      "source": [
        "## Simple Expressions\n",
        "\n",
        "### Boolean Evaluation\n",
        "\n",
        "Boolean expressions are created with the keywords and, or, not and is. For example:"
      ]
    },
    {
      "cell_type": "code",
      "metadata": {
        "colab": {
          "base_uri": "https://localhost:8080/"
        },
        "id": "4TtHeXvxl8Hv",
        "outputId": "d25606d4-f892-476b-cb1c-d8a5464edaf1"
      },
      "source": [
        "True and True"
      ],
      "execution_count": null,
      "outputs": [
        {
          "output_type": "execute_result",
          "data": {
            "text/plain": [
              "True"
            ]
          },
          "metadata": {},
          "execution_count": 27
        }
      ]
    },
    {
      "cell_type": "code",
      "metadata": {
        "colab": {
          "base_uri": "https://localhost:8080/"
        },
        "id": "a_5MZMAPl8Hw",
        "outputId": "24812b3d-a895-4c91-d117-a56e60760aa0"
      },
      "source": [
        "True or False"
      ],
      "execution_count": null,
      "outputs": [
        {
          "output_type": "execute_result",
          "data": {
            "text/plain": [
              "True"
            ]
          },
          "metadata": {},
          "execution_count": 29
        }
      ]
    },
    {
      "cell_type": "code",
      "metadata": {
        "colab": {
          "base_uri": "https://localhost:8080/"
        },
        "id": "VZkvt9rJl8Hw",
        "outputId": "63065aa2-266c-4778-a651-0372bef98412"
      },
      "source": [
        "not True"
      ],
      "execution_count": null,
      "outputs": [
        {
          "output_type": "execute_result",
          "data": {
            "text/plain": [
              "False"
            ]
          },
          "metadata": {},
          "execution_count": 28
        }
      ]
    },
    {
      "cell_type": "code",
      "metadata": {
        "colab": {
          "base_uri": "https://localhost:8080/"
        },
        "id": "mvvdG_Tol8Hw",
        "outputId": "d662e789-0dd9-4c4a-a3a2-ef41c2696a57"
      },
      "source": [
        "not False"
      ],
      "execution_count": null,
      "outputs": [
        {
          "output_type": "execute_result",
          "data": {
            "text/plain": [
              "True"
            ]
          },
          "metadata": {},
          "execution_count": 30
        }
      ]
    },
    {
      "cell_type": "code",
      "metadata": {
        "colab": {
          "base_uri": "https://localhost:8080/"
        },
        "id": "AGgM-3yul8Hx",
        "outputId": "a649c0e1-a476-411c-f3f7-f9213a9ef66b"
      },
      "source": [
        "True is True"
      ],
      "execution_count": null,
      "outputs": [
        {
          "output_type": "execute_result",
          "data": {
            "text/plain": [
              "True"
            ]
          },
          "metadata": {},
          "execution_count": 31
        }
      ]
    },
    {
      "cell_type": "code",
      "metadata": {
        "colab": {
          "base_uri": "https://localhost:8080/"
        },
        "id": "zAmWKZ9Fl8Hx",
        "outputId": "01ff5f39-e930-493a-e5e3-1a147904c98d"
      },
      "source": [
        "True is False"
      ],
      "execution_count": null,
      "outputs": [
        {
          "output_type": "execute_result",
          "data": {
            "text/plain": [
              "False"
            ]
          },
          "metadata": {},
          "execution_count": 32
        }
      ]
    },
    {
      "cell_type": "code",
      "metadata": {
        "colab": {
          "base_uri": "https://localhost:8080/"
        },
        "id": "-Kzt3Y2Fl8Hy",
        "outputId": "23797730-44b2-4fe0-c840-9402b021800b"
      },
      "source": [
        "'a' is 'a'"
      ],
      "execution_count": null,
      "outputs": [
        {
          "output_type": "execute_result",
          "data": {
            "text/plain": [
              "True"
            ]
          },
          "metadata": {},
          "execution_count": 33
        }
      ]
    },
    {
      "cell_type": "markdown",
      "metadata": {
        "id": "Pxy7RZcql8Hy"
      },
      "source": [
        "## Branching (if / elif / else)\n",
        "\n",
        "Python provides the if statement to allow branching based on conditions. Multiple elif checks can also be performed followed by an optional else clause. The if statement can be used with any evaluation of truthiness."
      ]
    },
    {
      "cell_type": "code",
      "metadata": {
        "colab": {
          "base_uri": "https://localhost:8080/"
        },
        "id": "0IGmpj59l8Hy",
        "outputId": "3d62eea4-9ff1-436d-927e-814c5466f4c3"
      },
      "source": [
        "i=3\n",
        "if i<3:\n",
        "    print('less then 3')\n",
        "elif i<5:\n",
        "    print('less than 5')\n",
        "else:\n",
        "  print('5 or more')"
      ],
      "execution_count": null,
      "outputs": [
        {
          "output_type": "stream",
          "name": "stdout",
          "text": [
            "less than 5\n"
          ]
        }
      ]
    },
    {
      "cell_type": "markdown",
      "metadata": {
        "id": "TmxYfpQ_l8Hz"
      },
      "source": [
        "## Block Structure and Whitespace\n",
        "\n",
        "The code that is executed when a specific condition is met is defined in a \"block.\" In Python, the block structure is signalled by changes in indentation. Each line of code in a certain block level must be indented equally and indented more than the surrounding scope. The standard (defined in PEP-8) is to use 4 spaces for each level of block indentation. Statements preceding blocks generally end with a colon (:).\n",
        "\n",
        "Because there are no semi-colons or other end-of-line indicators in Python, breaking lines of code requires either a continuation character (\\ as the last char) or for the break to occur inside an unfinished structure (such as open parentheses).\n",
        "\n"
      ]
    },
    {
      "cell_type": "markdown",
      "metadata": {
        "id": "JlEiyCtRl8Hz"
      },
      "source": [
        "## Advanced Types: Containers\n",
        "\n",
        "One of the great advantages of Python as a programming language is the ease with which it allows you to manipulate containers. Containers (or collections) are an integral part of the language and, as you’ll see, built in to the core of the language’s syntax. As a result, thinking in a Pythonic manner means thinking about containers.\n",
        "\n",
        "### Lists\n",
        "\n",
        "The first container type that we will look at is the list. A list represents an ordered, mutable collection of objects. You can mix and match any type of object in a list, add to it and remove from it at will.\n",
        "\n",
        "Creating Empty Lists. To create an empty list, you can use empty square brackets or use the list() function with no arguments.\n",
        "\n"
      ]
    },
    {
      "cell_type": "code",
      "metadata": {
        "id": "giai4Rd8l8Hz",
        "colab": {
          "base_uri": "https://localhost:8080/"
        },
        "outputId": "98a4a489-7caa-49ea-8b54-8616475cb266"
      },
      "source": [
        "l = []\n",
        "print(l)\n"
      ],
      "execution_count": null,
      "outputs": [
        {
          "output_type": "stream",
          "name": "stdout",
          "text": [
            "[]\n"
          ]
        }
      ]
    },
    {
      "cell_type": "code",
      "metadata": {
        "id": "OtY8kYlZl8H0",
        "colab": {
          "base_uri": "https://localhost:8080/"
        },
        "outputId": "6c9f218b-6b54-4232-95d3-90ec5150bd97"
      },
      "source": [
        "l = list()\n",
        "l\n"
      ],
      "execution_count": null,
      "outputs": [
        {
          "output_type": "execute_result",
          "data": {
            "text/plain": [
              "[]"
            ]
          },
          "metadata": {},
          "execution_count": 4
        }
      ]
    },
    {
      "cell_type": "markdown",
      "metadata": {
        "id": "m0YUaUeFl8H0"
      },
      "source": [
        "Initializing Lists. You can initialize a list with content of any sort using the same square bracket notation. The list() function also takes an iterable as a single argument and returns a shallow copy of that iterable as a new list. A list is one such iterable as we’ll see soon, and we’ll see others later."
      ]
    },
    {
      "cell_type": "code",
      "metadata": {
        "id": "LQYVI8cOl8H0",
        "colab": {
          "base_uri": "https://localhost:8080/"
        },
        "outputId": "1e598658-fc6f-4a61-a28c-5f0c91c051e8"
      },
      "source": [
        "l = ['a','b','c']\n",
        "print(l)\n",
        "type(l)"
      ],
      "execution_count": null,
      "outputs": [
        {
          "output_type": "stream",
          "name": "stdout",
          "text": [
            "['a', 'b', 'c']\n"
          ]
        },
        {
          "output_type": "execute_result",
          "data": {
            "text/plain": [
              "list"
            ]
          },
          "metadata": {},
          "execution_count": 6
        }
      ]
    },
    {
      "cell_type": "code",
      "metadata": {
        "id": "kTmjElTol8H0",
        "colab": {
          "base_uri": "https://localhost:8080/"
        },
        "outputId": "7a322768-6783-42c3-9542-ba83a01ae9e9"
      },
      "source": [
        "l= ['a' ,6]\n",
        "l"
      ],
      "execution_count": null,
      "outputs": [
        {
          "output_type": "execute_result",
          "data": {
            "text/plain": [
              "['a', 6]"
            ]
          },
          "metadata": {},
          "execution_count": 7
        }
      ]
    },
    {
      "cell_type": "code",
      "metadata": {
        "id": "VG8ydU-ml8H1",
        "colab": {
          "base_uri": "https://localhost:8080/"
        },
        "outputId": "e171b7cd-9de9-426f-eab8-846802e5d9aa"
      },
      "source": [
        "l2 = list(l)\n",
        "l2"
      ],
      "execution_count": null,
      "outputs": [
        {
          "output_type": "execute_result",
          "data": {
            "text/plain": [
              "['a', 6]"
            ]
          },
          "metadata": {},
          "execution_count": 13
        }
      ]
    },
    {
      "cell_type": "markdown",
      "metadata": {
        "id": "02A1dUWrl8H1"
      },
      "source": [
        "A Python string is also a sequence of characters and can be treated as an iterable over those characters. Combined with the list() function, a new list of the characters can easily be generated."
      ]
    },
    {
      "cell_type": "code",
      "metadata": {
        "id": "KwGSdEhwl8H1",
        "colab": {
          "base_uri": "https://localhost:8080/"
        },
        "outputId": "c5491ebb-7807-4910-a8ea-63e253773dcc"
      },
      "source": [
        "list('abcdef')"
      ],
      "execution_count": null,
      "outputs": [
        {
          "output_type": "execute_result",
          "data": {
            "text/plain": [
              "['a', 'b', 'c', 'd', 'e', 'f']"
            ]
          },
          "metadata": {},
          "execution_count": 14
        }
      ]
    },
    {
      "cell_type": "markdown",
      "metadata": {
        "id": "qdpQs3IEl8H2"
      },
      "source": [
        "Adding. You can append to a list very easily (add to the end) or insert at an arbitrary index."
      ]
    },
    {
      "cell_type": "code",
      "metadata": {
        "id": "DMYe7l3Cl8H2",
        "colab": {
          "base_uri": "https://localhost:8080/"
        },
        "outputId": "3c0899e3-89be-4466-cfa7-3e98ff96b55b"
      },
      "source": [
        "l =[1,2]\n",
        "print(l)\n",
        "l.append('b')\n",
        "print(l)\n",
        "l.append('c')\n",
        "print(l)\n",
        "l.insert(1,56)\n",
        "l"
      ],
      "execution_count": null,
      "outputs": [
        {
          "output_type": "stream",
          "name": "stdout",
          "text": [
            "[1, 2]\n",
            "[1, 2, 'b']\n",
            "[1, 2, 'b', 'c']\n"
          ]
        },
        {
          "output_type": "execute_result",
          "data": {
            "text/plain": [
              "[1, 56, 2, 'b', 'c']"
            ]
          },
          "metadata": {},
          "execution_count": 18
        }
      ]
    },
    {
      "cell_type": "markdown",
      "metadata": {
        "id": "XAQcI777l8H2"
      },
      "source": [
        "Iterating. Iterating over a list is very simple. All iterables in Python allow access to elements using the for ... in statement. In this structure, each element in the iterable is sequentially assigned to the \"loop variable\" for a single pass of the loop, during which the enclosed block is executed."
      ]
    },
    {
      "cell_type": "code",
      "metadata": {
        "id": "lWy7N4Xil8H3",
        "colab": {
          "base_uri": "https://localhost:8080/"
        },
        "outputId": "31ef7a1e-653a-4009-c78b-35cb9f5e9a61"
      },
      "source": [
        "for i in l:\n",
        "   print(i)"
      ],
      "execution_count": null,
      "outputs": [
        {
          "output_type": "stream",
          "name": "stdout",
          "text": [
            "1\n",
            "56\n",
            "2\n",
            "b\n",
            "c\n"
          ]
        }
      ]
    },
    {
      "cell_type": "markdown",
      "metadata": {
        "id": "_qtX0Qywl8H3"
      },
      "source": [
        "## Loops\n",
        "\n",
        "In general, statements are executed sequentially: The first statement in a function is executed first, followed by the second, and so on. There may be a situation when you need to execute a block of code several number of times.\n",
        "\n",
        "Programming languages provide various control structures that allow for more complicated execution paths.\n",
        "\n",
        "### For loop\n",
        "\n",
        "The for loop in Python is used to iterate over a sequence (list, tuple, string) or other iterable objects. Iterating over a sequence is called traversal.\n",
        "\n",
        "Loop continues until we reach the last item in the sequence. The body of for loop is separated from the rest of the code using indentation.\n",
        "\n",
        "\n",
        "<img src=\"Images/forLoop.jpg\">"
      ]
    },
    {
      "cell_type": "code",
      "metadata": {
        "id": "GujpdOTBl8H3",
        "colab": {
          "base_uri": "https://localhost:8080/"
        },
        "outputId": "0077626f-047d-40af-9f41-d534f373619c"
      },
      "source": [
        "# Program to find the sum of all numbers stored in a list\n",
        "\n",
        "# List of numbers\n",
        "numbers=[6, 5, 3, 8, 4, 2,  5, 4, 9]\n",
        "\n",
        "# variable to store the sum\n",
        "sum= 0\n",
        "\n",
        "# iterate over the list\n",
        "for i in numbers:\n",
        "    sum = sum+i\n",
        "\n",
        "\n",
        "\n",
        "# Output: The sum is 48\n",
        "print(\"sum is \", sum)\n",
        "sum\n",
        "\n"
      ],
      "execution_count": null,
      "outputs": [
        {
          "output_type": "stream",
          "name": "stdout",
          "text": [
            "sum is  46\n"
          ]
        },
        {
          "output_type": "execute_result",
          "data": {
            "text/plain": [
              "46"
            ]
          },
          "metadata": {},
          "execution_count": 22
        }
      ]
    },
    {
      "cell_type": "markdown",
      "metadata": {
        "id": "Ws7GeKQfl8H4"
      },
      "source": [
        "### for loop with else\n",
        "A for loop can have an optional else block as well. The else part is executed if the items in the sequence used in for loop exhausts.\n",
        "\n",
        "break statement can be used to stop a for loop. In such case, the else part is ignored.\n",
        "\n",
        "Hence, a for loop's else part runs if no break occurs.\n",
        "\n",
        "Here is an example to illustrate this."
      ]
    },
    {
      "cell_type": "code",
      "metadata": {
        "id": "-hpgtoeLl8H4",
        "colab": {
          "base_uri": "https://localhost:8080/"
        },
        "outputId": "f9c7b2d3-d673-40ee-cd4b-0ee490b682d0"
      },
      "source": [
        "digits = [0 ,1, 5]\n",
        "for i in digits:\n",
        "  print(i)\n",
        "else:\n",
        "  print(\"no items left\")  "
      ],
      "execution_count": null,
      "outputs": [
        {
          "output_type": "stream",
          "name": "stdout",
          "text": [
            "0\n",
            "1\n",
            "5\n",
            "no items left\n"
          ]
        }
      ]
    },
    {
      "cell_type": "markdown",
      "metadata": {
        "id": "jNBuDs8El8H4"
      },
      "source": [
        "## While loop\n",
        "\n",
        "The while loop in Python is used to iterate over a block of code as long as the test expression (condition) is true.\n",
        "\n",
        "We generally use this loop when we don't know beforehand, the number of times to iterate.\n",
        "\n",
        "In while loop, test expression is checked first. The body of the loop is entered only if the test_expression evaluates to True. After one iteration, the test expression is checked again. This process continues until the test_expression evaluates to False.\n",
        "\n",
        "In Python, the body of the while loop is determined through indentation.\n",
        "\n",
        "Body starts with indentation and the first unindented line marks the end.\n",
        "\n",
        "Python interprets any non-zero value as True. None and 0 are interpreted as False.\n",
        "\n",
        "<img src=\"Images/whileLoopFlowchart.jpg\">\n"
      ]
    },
    {
      "cell_type": "code",
      "metadata": {
        "id": "sJAaF-pVl8H4",
        "colab": {
          "base_uri": "https://localhost:8080/"
        },
        "outputId": "e2064e79-374a-4a4b-8eaa-4fe82d5d3df1"
      },
      "source": [
        "# Program to add natural\n",
        "# numbers upto \n",
        "# sum = 1+2+3+...+n\n",
        "\n",
        "# To take input from the user,\n",
        "n = int(input(\"enter n \"))\n",
        "\n",
        "\n",
        "# initialize sum and counter\n",
        "sum = 0\n",
        "i = 1\n",
        "while i<=n:\n",
        "    sum = sum+i\n",
        "    i = i+1 # update counter\n",
        "\n",
        "# print the sum\n",
        "print (\"sum is \", sum)\n"
      ],
      "execution_count": null,
      "outputs": [
        {
          "output_type": "stream",
          "name": "stdout",
          "text": [
            "enter n 50\n",
            "sum is  1275\n"
          ]
        }
      ]
    },
    {
      "cell_type": "markdown",
      "metadata": {
        "id": "uQl5-1zil8H5"
      },
      "source": [
        "## The range() function\n",
        "We can generate a sequence of numbers using range() function. range(10) will generate numbers from 0 to 9 (10 numbers).\n",
        "\n",
        "We can also define the start, stop and step size as range(start,stop,step size). step size defaults to 1 if not provided.\n",
        "\n",
        "This function does not store all the values in memory, it would be inefficient. So it remembers the start, stop, step size and generates the next number on the go.\n",
        "\n",
        "To force this function to output all the items, we can use the function list().\n",
        "\n",
        "The following example will clarify this."
      ]
    },
    {
      "cell_type": "code",
      "metadata": {
        "id": "cCi-TkKll8H5",
        "colab": {
          "base_uri": "https://localhost:8080/"
        },
        "outputId": "1ba69f30-33a4-4e80-9449-f345fe42ea04"
      },
      "source": [
        "print(range(10))"
      ],
      "execution_count": null,
      "outputs": [
        {
          "output_type": "stream",
          "name": "stdout",
          "text": [
            "range(0, 10)\n"
          ]
        }
      ]
    },
    {
      "cell_type": "code",
      "metadata": {
        "id": "yeNMy7Hxl8H5",
        "colab": {
          "base_uri": "https://localhost:8080/"
        },
        "outputId": "ce98d1fe-599f-40d5-eacd-e821a23adab0"
      },
      "source": [
        "print(list(range(10)))"
      ],
      "execution_count": null,
      "outputs": [
        {
          "output_type": "stream",
          "name": "stdout",
          "text": [
            "[0, 1, 2, 3, 4, 5, 6, 7, 8, 9]\n"
          ]
        }
      ]
    },
    {
      "cell_type": "code",
      "metadata": {
        "id": "Vtt5AYIbl8H6",
        "colab": {
          "base_uri": "https://localhost:8080/"
        },
        "outputId": "b6b90647-9aa1-4367-c639-795728772cd0"
      },
      "source": [
        "print(list(range(2,8)))"
      ],
      "execution_count": null,
      "outputs": [
        {
          "output_type": "stream",
          "name": "stdout",
          "text": [
            "[2, 3, 4, 5, 6, 7]\n"
          ]
        }
      ]
    },
    {
      "cell_type": "code",
      "metadata": {
        "id": "UvjMLscbl8H6",
        "colab": {
          "base_uri": "https://localhost:8080/"
        },
        "outputId": "0afac8aa-7042-406d-9fb7-102565faad51"
      },
      "source": [
        "print(list(range(2,20,5)))"
      ],
      "execution_count": null,
      "outputs": [
        {
          "output_type": "stream",
          "name": "stdout",
          "text": [
            "[2, 7, 12, 17]\n"
          ]
        }
      ]
    },
    {
      "cell_type": "markdown",
      "metadata": {
        "id": "51LV4cOVl8H6"
      },
      "source": [
        "We can use the range() function in for loops to iterate through a sequence of numbers. It can be combined with the len() function to iterate though a sequence using indexing. Here is an example."
      ]
    },
    {
      "cell_type": "code",
      "metadata": {
        "id": "Mn1NbtA7l8H6",
        "colab": {
          "base_uri": "https://localhost:8080/"
        },
        "outputId": "9e25c43d-97f2-4872-e536-87a3ad867376"
      },
      "source": [
        "# Program to iterate through a list using indexing\n",
        "genre = ['pop', 'rock','jazz','sapna']\n",
        "\n",
        "\n",
        "\n",
        "\n",
        "# iterate over the list using index\n",
        "for i in range(len(genre)):\n",
        "  print(\"i like\",genre[i])\n"
      ],
      "execution_count": null,
      "outputs": [
        {
          "output_type": "stream",
          "name": "stdout",
          "text": [
            "i like pop\n",
            "i like rock\n",
            "i like jazz\n",
            "i like sapna\n"
          ]
        }
      ]
    },
    {
      "cell_type": "markdown",
      "metadata": {
        "id": "eCkMCbgyl8H7"
      },
      "source": [
        "## break and continue statement\n",
        "\n",
        "In Python, break and continue statements can alter the flow of a normal loop.\n",
        "\n",
        "Loops iterate over a block of code until test expression is false, but sometimes we wish to terminate the current iteration or even the whole loop without cheking test expression.\n",
        "\n",
        "The break and continue statements are used in these cases.\n",
        "\n",
        "### break\n",
        "The break statement terminates the loop containing it. Control of the program flows to the statement immediately after the body of the loop.\n",
        "\n",
        "If break statement is inside a nested loop (loop inside another loop), break will terminate the innermost loop.\n",
        "\n",
        "\n",
        "\n",
        "<img src=\"Images/flowchart-break-statement.jpg\">"
      ]
    },
    {
      "cell_type": "code",
      "metadata": {
        "id": "y_maXZ8Tl8H7",
        "colab": {
          "base_uri": "https://localhost:8080/"
        },
        "outputId": "326abf28-48fc-446e-a13b-0177643fb30a"
      },
      "source": [
        "# Use of break statement inside loop\n",
        "for val in \"HARSHITHA\":\n",
        "  if val == \"I\":\n",
        "     break\n",
        "  print(val)\n",
        "print(\"The End\")\n"
      ],
      "execution_count": null,
      "outputs": [
        {
          "output_type": "stream",
          "name": "stdout",
          "text": [
            "H\n",
            "A\n",
            "R\n",
            "S\n",
            "H\n",
            "The End\n"
          ]
        }
      ]
    },
    {
      "cell_type": "markdown",
      "metadata": {
        "id": "S0Nu-zZTl8H8"
      },
      "source": [
        "In this program, we iterate through the \"string\" sequence. We check if the letter is \"i\", upon which we break from the loop. Hence, we see in our output that all the letters up till \"i\" gets printed. After that, the loop terminates."
      ]
    },
    {
      "cell_type": "markdown",
      "metadata": {
        "id": "CKa809OBl8H8"
      },
      "source": [
        "### continue\n",
        "The continue statement is used to skip the rest of the code inside a loop for the current iteration only. Loop does not terminate but continues on with the next iteration.\n",
        "\n",
        "<img src=\"Images/continue-statement-flowchart.jpg\">"
      ]
    },
    {
      "cell_type": "code",
      "metadata": {
        "id": "zJV5r8dCl8H8",
        "colab": {
          "base_uri": "https://localhost:8080/"
        },
        "outputId": "48d60e83-9009-41ef-feb3-0187247800fa"
      },
      "source": [
        "# Program to show the use of continue statement inside loops\n",
        "\n",
        "for val in \"HARSHITA\":\n",
        "  if val == \"I\":\n",
        "    continue\n",
        "  print(val)\n",
        "print(\"The End\")\n"
      ],
      "execution_count": null,
      "outputs": [
        {
          "output_type": "stream",
          "name": "stdout",
          "text": [
            "H\n",
            "A\n",
            "R\n",
            "S\n",
            "H\n",
            "T\n",
            "A\n",
            "The End\n"
          ]
        }
      ]
    },
    {
      "cell_type": "markdown",
      "metadata": {
        "id": "g4wsngTwl8H8"
      },
      "source": [
        "This program is same as the above example except the break statement has been replaced with continue.\n",
        "\n",
        "We continue with the loop, if the string is \"i\", not executing the rest of the block. Hence, we see in our output that all the letters except \"i\" gets printed."
      ]
    },
    {
      "cell_type": "markdown",
      "metadata": {
        "collapsed": true,
        "id": "w4NKSl7El8H9"
      },
      "source": [
        "my own work.........."
      ]
    },
    {
      "cell_type": "code",
      "metadata": {
        "id": "m0b8Kp0tl8H9",
        "colab": {
          "base_uri": "https://localhost:8080/"
        },
        "outputId": "06d3952e-ad69-4e4e-9fa2-797e024708a0"
      },
      "source": [
        "# Program to take the input string from the user.\n",
        "\n",
        "name =input(\"what is your name?\\n\")\n",
        "type(name)"
      ],
      "execution_count": null,
      "outputs": [
        {
          "name": "stdout",
          "output_type": "stream",
          "text": [
            "what is your name?\n",
            "komal\n"
          ]
        },
        {
          "output_type": "execute_result",
          "data": {
            "text/plain": [
              "str"
            ]
          },
          "metadata": {},
          "execution_count": 43
        }
      ]
    },
    {
      "cell_type": "code",
      "metadata": {
        "id": "veN1EFSzl8H_",
        "colab": {
          "base_uri": "https://localhost:8080/"
        },
        "outputId": "a3db974e-8ec5-47a6-a697-948c976eee9b"
      },
      "source": [
        "# Program to read integers from user\n",
        "age =int(input(\"what is ypur age?\"))\n",
        "print(\"your age is:\",age)\n",
        "type(age)\n",
        "\n"
      ],
      "execution_count": null,
      "outputs": [
        {
          "output_type": "stream",
          "name": "stdout",
          "text": [
            "what is ypur age?21\n",
            "your age is: 21\n"
          ]
        },
        {
          "output_type": "execute_result",
          "data": {
            "text/plain": [
              "int"
            ]
          },
          "metadata": {},
          "execution_count": 45
        }
      ]
    },
    {
      "cell_type": "code",
      "metadata": {
        "id": "PrHO-0bnl8H_",
        "colab": {
          "base_uri": "https://localhost:8080/"
        },
        "outputId": "b61716b8-1ce2-4620-b81b-bed86a18a94f"
      },
      "source": [
        "# Let's have one more example\n",
        "name = input(\"what is your name?\")\n",
        "print(\"it was nice talking you\" + name + \"!\")\n",
        "age =input(\" enter your age?\")\n",
        "print(\"Hey, you are already \" + age + \"years old,\" + name + \"!\")\n",
        "\n",
        "\n"
      ],
      "execution_count": null,
      "outputs": [
        {
          "output_type": "stream",
          "name": "stdout",
          "text": [
            "what is your name?komal\n",
            "it was nice talking youkomal!\n",
            " enter your age?21\n",
            "Hey, you are already 21years old,komal!\n"
          ]
        }
      ]
    },
    {
      "cell_type": "code",
      "metadata": {
        "id": "4VyiHlm9l8IA"
      },
      "source": [
        ""
      ],
      "execution_count": null,
      "outputs": []
    }
  ]
}